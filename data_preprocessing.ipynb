{
 "cells": [
  {
   "cell_type": "markdown",
   "id": "880fdad9-7939-47c2-828d-4b16ed7a6cd9",
   "metadata": {},
   "source": [
    "Just uncomment below cell in case you want to run the code in Google Colaboratory without copying `data_loader.py`.\n",
    "\n",
    "You also need to remove `from data_loader import get_data` from cell below"
   ]
  },
  {
   "cell_type": "code",
   "execution_count": null,
   "id": "9cf878a6-68ca-4d1f-be03-53f322534c8a",
   "metadata": {},
   "outputs": [],
   "source": [
    "# import pickle\n",
    "# import lzma\n",
    "# import gdown\n",
    "# DATA_URL = \"https://drive.google.com/u/0/uc?id=1RbFKammoDtPr9vkLR46iseaKU3CxyLtC\"\n",
    "# MATCHE_FILE = Path(\"data/matches.pkl.xz\")\n",
    "\n",
    "# def get_local_match_data():\n",
    "#     \"\"\"Load data file with all matches.\"\"\"\n",
    "#     if MATCHE_FILE.exists():\n",
    "#         with lzma.open(MATCHE_FILE, \"r\") as f:\n",
    "#             return pickle.load(f)\n",
    "#     return []\n",
    "\n",
    "# def get_data():\n",
    "#     \"\"\"Function for getting match data.\"\"\"\n",
    "#     if not MATCHE_FILE.exists():\n",
    "#         gdown.download(DATA_URL, str(MATCHE_FILE), quiet=False)\n",
    "#     return get_local_match_data()"
   ]
  },
  {
   "cell_type": "code",
   "execution_count": 1,
   "id": "ff247aac-93e8-45f8-b7d3-2a31d6d31dfa",
   "metadata": {},
   "outputs": [],
   "source": [
    "import pandas as pd\n",
    "\n",
    "from data_loader import get_data"
   ]
  },
  {
   "cell_type": "code",
   "execution_count": 2,
   "id": "8f3236f2-3317-4e05-b04c-2da211e54edc",
   "metadata": {},
   "outputs": [],
   "source": [
    "# Load matches - list of dictionaries (JSON structure)\n",
    "matches = get_data()"
   ]
  },
  {
   "cell_type": "code",
   "execution_count": 3,
   "id": "39bbd686-e136-4e75-879d-b82c7f3233f8",
   "metadata": {},
   "outputs": [],
   "source": [
    "# Precalculate mapping from player id to related matches\n",
    "players_to_matches = {}\n",
    "for match_idx, match in enumerate(matches):\n",
    "    for player_id in match[\"metadata\"][\"participants\"]:\n",
    "        if player_id not in players_to_matches:\n",
    "            players_to_matches[player_id] = []\n",
    "        players_to_matches[player_id].append(match_idx)"
   ]
  },
  {
   "cell_type": "code",
   "execution_count": 4,
   "id": "37d32e63-804f-4493-a90f-cb40d51dec18",
   "metadata": {},
   "outputs": [
    {
     "name": "stdout",
     "output_type": "stream",
     "text": [
      "Random player id: qlpwcEgZY_HHMgBTsCPKferzKuSA18CSO3tPM4DTpaBGlA8ob4GQHVFQU7gbFRCpKurxQu4LvvEPgA\n",
      "  Number of matches: 1\n"
     ]
    }
   ],
   "source": [
    "# Then example of accessing user's matches\n",
    "player_id = next(iter(players_to_matches))\n",
    "player_matches = [matches[i] for i in players_to_matches[player_id]]\n",
    "print(\"Random player id:\", player_id)\n",
    "print(\"  Number of matches:\", len(player_matches))"
   ]
  }
 ],
 "metadata": {
  "kernelspec": {
   "display_name": "Python 3 (ipykernel)",
   "language": "python",
   "name": "python3"
  },
  "language_info": {
   "codemirror_mode": {
    "name": "ipython",
    "version": 3
   },
   "file_extension": ".py",
   "mimetype": "text/x-python",
   "name": "python",
   "nbconvert_exporter": "python",
   "pygments_lexer": "ipython3",
   "version": "3.8.10"
  }
 },
 "nbformat": 4,
 "nbformat_minor": 5
}
